{
 "cells": [
  {
   "cell_type": "markdown",
   "id": "a681a0e6-e3b2-487f-8aba-045e21cc3694",
   "metadata": {},
   "source": [
    "# Prediction of wine type using random forest classifier"
   ]
  },
  {
   "cell_type": "markdown",
   "id": "2390f28c-2120-4075-82aa-73c6c11c0af1",
   "metadata": {},
   "source": [
    "Before you run this notebook you must first install the dependencies using the dependencies.ipynb notebook.\n",
    "\n",
    "Only needs to be done once, but if you start a new Jupyter instance then you will have to load them again."
   ]
  },
  {
   "cell_type": "code",
   "execution_count": 1,
   "id": "e66d94b9-c84d-493b-8d51-7266e8fa02bc",
   "metadata": {},
   "outputs": [],
   "source": [
    "from sklearn.datasets import load_wine\n",
    "import pandas as pd\n",
    "from sklearn.ensemble import RandomForestClassifier\n"
   ]
  },
  {
   "cell_type": "code",
   "execution_count": 2,
   "id": "fb38adfa",
   "metadata": {},
   "outputs": [],
   "source": [
    "from jaqpotpy import Jaqpot\n",
    "from jaqpotpy.models import MolecularModel"
   ]
  },
  {
   "cell_type": "code",
   "execution_count": 3,
   "id": "6522d481-5c20-4ea9-8534-1fd923e3e7da",
   "metadata": {},
   "outputs": [],
   "source": [
    "# see here for info on the wine dataset https://scikit-learn.org/stable/datasets/toy_dataset.html\n",
    "# and https://archive.ics.uci.edu/ml/datasets/Wine\n",
    "data = load_wine()"
   ]
  },
  {
   "cell_type": "code",
   "execution_count": 4,
   "id": "ed89e127-38e9-49cf-bda4-8c8b99c90c8c",
   "metadata": {},
   "outputs": [
    {
     "name": "stdout",
     "output_type": "stream",
     "text": [
      "     alcohol  malic_acid   ash  alcalinity_of_ash  magnesium  total_phenols  \\\n",
      "0      14.23        1.71  2.43               15.6      127.0           2.80   \n",
      "1      13.20        1.78  2.14               11.2      100.0           2.65   \n",
      "2      13.16        2.36  2.67               18.6      101.0           2.80   \n",
      "3      14.37        1.95  2.50               16.8      113.0           3.85   \n",
      "4      13.24        2.59  2.87               21.0      118.0           2.80   \n",
      "..       ...         ...   ...                ...        ...            ...   \n",
      "173    13.71        5.65  2.45               20.5       95.0           1.68   \n",
      "174    13.40        3.91  2.48               23.0      102.0           1.80   \n",
      "175    13.27        4.28  2.26               20.0      120.0           1.59   \n",
      "176    13.17        2.59  2.37               20.0      120.0           1.65   \n",
      "177    14.13        4.10  2.74               24.5       96.0           2.05   \n",
      "\n",
      "     flavanoids  nonflavanoid_phenols  proanthocyanins  color_intensity   hue  \\\n",
      "0          3.06                  0.28             2.29             5.64  1.04   \n",
      "1          2.76                  0.26             1.28             4.38  1.05   \n",
      "2          3.24                  0.30             2.81             5.68  1.03   \n",
      "3          3.49                  0.24             2.18             7.80  0.86   \n",
      "4          2.69                  0.39             1.82             4.32  1.04   \n",
      "..          ...                   ...              ...              ...   ...   \n",
      "173        0.61                  0.52             1.06             7.70  0.64   \n",
      "174        0.75                  0.43             1.41             7.30  0.70   \n",
      "175        0.69                  0.43             1.35            10.20  0.59   \n",
      "176        0.68                  0.53             1.46             9.30  0.60   \n",
      "177        0.76                  0.56             1.35             9.20  0.61   \n",
      "\n",
      "     od280/od315_of_diluted_wines  proline  \n",
      "0                            3.92   1065.0  \n",
      "1                            3.40   1050.0  \n",
      "2                            3.17   1185.0  \n",
      "3                            3.45   1480.0  \n",
      "4                            2.93    735.0  \n",
      "..                            ...      ...  \n",
      "173                          1.74    740.0  \n",
      "174                          1.56    750.0  \n",
      "175                          1.56    835.0  \n",
      "176                          1.62    840.0  \n",
      "177                          1.60    560.0  \n",
      "\n",
      "[178 rows x 13 columns]\n"
     ]
    }
   ],
   "source": [
    "# create the data frame\n",
    "df_X = pd.DataFrame(data['data'], columns=data['feature_names'])\n",
    "print(df_X)"
   ]
  },
  {
   "cell_type": "code",
   "execution_count": 5,
   "id": "18b5b700-14cd-4672-baa2-b3d4e7605ef6",
   "metadata": {},
   "outputs": [
    {
     "name": "stdout",
     "output_type": "stream",
     "text": [
      "     target\n",
      "0         0\n",
      "1         0\n",
      "2         0\n",
      "3         0\n",
      "4         0\n",
      "..      ...\n",
      "173       2\n",
      "174       2\n",
      "175       2\n",
      "176       2\n",
      "177       2\n",
      "\n",
      "[178 rows x 1 columns]\n"
     ]
    }
   ],
   "source": [
    "df_Y = pd.DataFrame(data['target'], columns = [\"target\"])\n",
    "print(df_Y)"
   ]
  },
  {
   "cell_type": "code",
   "execution_count": 6,
   "id": "278cdb0f-c661-4c1e-be08-804ebffe0745",
   "metadata": {},
   "outputs": [
    {
     "name": "stderr",
     "output_type": "stream",
     "text": [
      "/tmp/ipykernel_3901748/2044976.py:3: DataConversionWarning: A column-vector y was passed when a 1d array was expected. Please change the shape of y to (n_samples,), for example using ravel().\n",
      "  model.fit(df_X, df_Y)\n"
     ]
    },
    {
     "data": {
      "text/html": [
       "<style>#sk-container-id-1 {color: black;background-color: white;}#sk-container-id-1 pre{padding: 0;}#sk-container-id-1 div.sk-toggleable {background-color: white;}#sk-container-id-1 label.sk-toggleable__label {cursor: pointer;display: block;width: 100%;margin-bottom: 0;padding: 0.3em;box-sizing: border-box;text-align: center;}#sk-container-id-1 label.sk-toggleable__label-arrow:before {content: \"▸\";float: left;margin-right: 0.25em;color: #696969;}#sk-container-id-1 label.sk-toggleable__label-arrow:hover:before {color: black;}#sk-container-id-1 div.sk-estimator:hover label.sk-toggleable__label-arrow:before {color: black;}#sk-container-id-1 div.sk-toggleable__content {max-height: 0;max-width: 0;overflow: hidden;text-align: left;background-color: #f0f8ff;}#sk-container-id-1 div.sk-toggleable__content pre {margin: 0.2em;color: black;border-radius: 0.25em;background-color: #f0f8ff;}#sk-container-id-1 input.sk-toggleable__control:checked~div.sk-toggleable__content {max-height: 200px;max-width: 100%;overflow: auto;}#sk-container-id-1 input.sk-toggleable__control:checked~label.sk-toggleable__label-arrow:before {content: \"▾\";}#sk-container-id-1 div.sk-estimator input.sk-toggleable__control:checked~label.sk-toggleable__label {background-color: #d4ebff;}#sk-container-id-1 div.sk-label input.sk-toggleable__control:checked~label.sk-toggleable__label {background-color: #d4ebff;}#sk-container-id-1 input.sk-hidden--visually {border: 0;clip: rect(1px 1px 1px 1px);clip: rect(1px, 1px, 1px, 1px);height: 1px;margin: -1px;overflow: hidden;padding: 0;position: absolute;width: 1px;}#sk-container-id-1 div.sk-estimator {font-family: monospace;background-color: #f0f8ff;border: 1px dotted black;border-radius: 0.25em;box-sizing: border-box;margin-bottom: 0.5em;}#sk-container-id-1 div.sk-estimator:hover {background-color: #d4ebff;}#sk-container-id-1 div.sk-parallel-item::after {content: \"\";width: 100%;border-bottom: 1px solid gray;flex-grow: 1;}#sk-container-id-1 div.sk-label:hover label.sk-toggleable__label {background-color: #d4ebff;}#sk-container-id-1 div.sk-serial::before {content: \"\";position: absolute;border-left: 1px solid gray;box-sizing: border-box;top: 0;bottom: 0;left: 50%;z-index: 0;}#sk-container-id-1 div.sk-serial {display: flex;flex-direction: column;align-items: center;background-color: white;padding-right: 0.2em;padding-left: 0.2em;position: relative;}#sk-container-id-1 div.sk-item {position: relative;z-index: 1;}#sk-container-id-1 div.sk-parallel {display: flex;align-items: stretch;justify-content: center;background-color: white;position: relative;}#sk-container-id-1 div.sk-item::before, #sk-container-id-1 div.sk-parallel-item::before {content: \"\";position: absolute;border-left: 1px solid gray;box-sizing: border-box;top: 0;bottom: 0;left: 50%;z-index: -1;}#sk-container-id-1 div.sk-parallel-item {display: flex;flex-direction: column;z-index: 1;position: relative;background-color: white;}#sk-container-id-1 div.sk-parallel-item:first-child::after {align-self: flex-end;width: 50%;}#sk-container-id-1 div.sk-parallel-item:last-child::after {align-self: flex-start;width: 50%;}#sk-container-id-1 div.sk-parallel-item:only-child::after {width: 0;}#sk-container-id-1 div.sk-dashed-wrapped {border: 1px dashed gray;margin: 0 0.4em 0.5em 0.4em;box-sizing: border-box;padding-bottom: 0.4em;background-color: white;}#sk-container-id-1 div.sk-label label {font-family: monospace;font-weight: bold;display: inline-block;line-height: 1.2em;}#sk-container-id-1 div.sk-label-container {text-align: center;}#sk-container-id-1 div.sk-container {/* jupyter's `normalize.less` sets `[hidden] { display: none; }` but bootstrap.min.css set `[hidden] { display: none !important; }` so we also need the `!important` here to be able to override the default hidden behavior on the sphinx rendered scikit-learn.org. See: https://github.com/scikit-learn/scikit-learn/issues/21755 */display: inline-block !important;position: relative;}#sk-container-id-1 div.sk-text-repr-fallback {display: none;}</style><div id=\"sk-container-id-1\" class=\"sk-top-container\"><div class=\"sk-text-repr-fallback\"><pre>RandomForestClassifier(max_depth=10, random_state=0)</pre><b>In a Jupyter environment, please rerun this cell to show the HTML representation or trust the notebook. <br />On GitHub, the HTML representation is unable to render, please try loading this page with nbviewer.org.</b></div><div class=\"sk-container\" hidden><div class=\"sk-item\"><div class=\"sk-estimator sk-toggleable\"><input class=\"sk-toggleable__control sk-hidden--visually\" id=\"sk-estimator-id-1\" type=\"checkbox\" checked><label for=\"sk-estimator-id-1\" class=\"sk-toggleable__label sk-toggleable__label-arrow\">RandomForestClassifier</label><div class=\"sk-toggleable__content\"><pre>RandomForestClassifier(max_depth=10, random_state=0)</pre></div></div></div></div></div>"
      ],
      "text/plain": [
       "RandomForestClassifier(max_depth=10, random_state=0)"
      ]
     },
     "execution_count": 6,
     "metadata": {},
     "output_type": "execute_result"
    }
   ],
   "source": [
    "# create the model\n",
    "model = RandomForestClassifier(max_depth=10, random_state=0)\n",
    "model.fit(df_X, df_Y)\n",
    "# this gives a strange warning about \"column-vector y was passed when a 1d array was expected\" which can be ignored, but need to work out how to avoid this. "
   ]
  },
  {
   "cell_type": "code",
   "execution_count": 10,
   "id": "ab875bc3-9505-4eb4-93c4-4bd3ff193b2e",
   "metadata": {},
   "outputs": [
    {
     "name": "stdout",
     "output_type": "stream",
     "text": [
      "eyJhbGciOiJSUzI1NiIsInR5cCIgOiAiSldUIiwia2lkIiA6ICI3RC1USHRaTVdNRElhV3gxX0NXamhCVHpWdEpaejRBTnd2dGh3QWx2OFRrIn0.eyJleHAiOjE2NzE2NTM5MzksImlhdCI6MTY3MTYzMjMzOSwiYXV0aF90aW1lIjoxNjcxNjMyMzM4LCJqdGkiOiIyMjJjNjRhMy0xZDA2LTQwMzUtYTIyNy1iOThkZDE2MWNhNGEiLCJpc3MiOiJodHRwczovL3NxdW9uay5pbmZvcm1hdGljc21hdHRlcnMub3JnL2F1dGgvcmVhbG1zL3NxdW9uayIsImF1ZCI6WyJzcXVvbmstam9iZXhlY3V0b3IiLCJzcXVvbmstcG9ydGFsIiwiYWNjb3VudCJdLCJzdWIiOiJmZGMwNTc0OS03YzZkLTQyMmMtYTU0ZS01MjFkMTA5NzI0YTMiLCJ0eXAiOiJCZWFyZXIiLCJhenAiOiJqYXFwb3QtdWkiLCJub25jZSI6ImYyZTcyZjcwOGYyYzM1N2I0MTg3YTE3YWE5OTk5YmIwZGF6Tk5BS3FHIiwic2Vzc2lvbl9zdGF0ZSI6IjhjMDk3YzFkLTk4MjEtNDFiMC05YTExLTQyYjY3NDI2NTVhMCIsImFjciI6IjEiLCJhbGxvd2VkLW9yaWdpbnMiOlsiaHR0cHM6Ly9qYXFwb3QuaW5mb3JtYXRpY3NtYXR0ZXJzLm9yZyJdLCJyZWFsbV9hY2Nlc3MiOnsicm9sZXMiOlsiYWNjb3VudC1zZXJ2ZXItYWRtaW4iLCJzdGFuZGFyZC11c2VyIiwiZGF0YS1tYW5hZ2VyLXVzZXIiLCJkYXRhLW1hbmFnZXItYWRtaW4iLCJvZmZsaW5lX2FjY2VzcyIsImFjY291bnQtc2VydmVyLXVzZXIiLCJ1bWFfYXV0aG9yaXphdGlvbiIsImZyYWduZXQtc2VhcmNoIl19LCJyZXNvdXJjZV9hY2Nlc3MiOnsic3F1b25rLWpvYmV4ZWN1dG9yIjp7InJvbGVzIjpbInN0YW5kYXJkLXVzZXIiXX0sInNxdW9uay1wb3J0YWwiOnsicm9sZXMiOlsic3RhbmRhcmQtdXNlciJdfSwiYWNjb3VudCI6eyJyb2xlcyI6WyJtYW5hZ2UtYWNjb3VudCIsIm1hbmFnZS1hY2NvdW50LWxpbmtzIiwidmlldy1wcm9maWxlIl19fSwic2NvcGUiOiJvcGVuaWQgcHJvZmlsZSBlbWFpbCIsImVtYWlsX3ZlcmlmaWVkIjp0cnVlLCJuYW1lIjoiVGltIER1ZGdlb24iLCJwcmVmZXJyZWRfdXNlcm5hbWUiOiJ0ZHVkZ2VvbiIsImdpdmVuX25hbWUiOiJUaW0iLCJmYW1pbHlfbmFtZSI6IkR1ZGdlb24iLCJlbWFpbCI6InRkdWRnZW9uQGluZm9ybWF0aWNzbWF0dGVycy5jb20ifQ.I8K-MWzBVFic8JoD2HLn6FnTz2hPCVXzGyqoJ0Q-5oY7P9_VfhbwTRrEKeg-H6c8Oltrd7tJvSN_HONNUIe2_R-JzBGle22Efuhstf1P9zPk_-6EdM3ESC5jH9qxqjjjusfkdnplb8MesxVSCq67AyJCO1Iv860v9QiVXxGj_D4yDcRme06f5u6NGdLys9k2lDCEL936wUUKFz-KzI_KAprGzB0gwRpPLhUmQe_0Ywyt1Q0-JK-ffVbioRnRUthldUibfYf3RjS2OEckk9RVm6gfp9AtqA3UBlnPQHCyFKS03H1Dd21zZP3je-PpwB9aKrE9sYbx_YYfnFsevko9RA\n"
     ]
    },
    {
     "name": "stderr",
     "output_type": "stream",
     "text": [
      "  2022-12-21 14:22:10,813 - INFO - api key is set\n"
     ]
    }
   ],
   "source": [
    "# Create the Jaqpot instance and prompt for the API key\n",
    "a = input()\n",
    "jaqpot = Jaqpot('https://jaqpotapi.informaticsmatters.org/jaqpot/services/')\n",
    "jaqpot.set_api_key(a)\n",
    "# TODO - Jaqpot prints the key which is a security risk. Avoid doing this."
   ]
  },
  {
   "cell_type": "code",
   "execution_count": 12,
   "id": "3e392187-6e0f-4621-99d2-b8b632d69757",
   "metadata": {},
   "outputs": [
    {
     "name": "stderr",
     "output_type": "stream",
     "text": [
      "  2022-12-21 14:45:18,137 - INFO - Model with id: 9wlQ0whRHvTK2vOy8avd created. Please visit the application to proceed\n"
     ]
    }
   ],
   "source": [
    "# Deploy the model to Jaqpot along with its title and description\n",
    "model_id = jaqpot.deploy_sklearn(model, df_X, df_Y, \"RF wine model from Squonk\", \"Random Forest wine category predictive model from Squonk\")"
   ]
  },
  {
   "cell_type": "code",
   "execution_count": 13,
   "id": "66bee326-1673-4176-b7f3-a516d45c71bd",
   "metadata": {},
   "outputs": [
    {
     "name": "stderr",
     "output_type": "stream",
     "text": [
      "  2022-12-21 14:45:29,297 - INFO - completed 20.0\n",
      "  2022-12-21 14:45:30,449 - INFO - completed 100.0\n"
     ]
    }
   ],
   "source": [
    "# Run the predictions using the uploaded model. The Jaqpot client handles this for us.\n",
    "df_pred, predicts = jaqpot.predict(df_X, model_id)"
   ]
  },
  {
   "cell_type": "code",
   "execution_count": 14,
   "id": "ef6a2b83-2763-44e2-a367-4ccfbd998947",
   "metadata": {},
   "outputs": [
    {
     "name": "stdout",
     "output_type": "stream",
     "text": [
      "['target']\n",
      "     magnesium  alcalinity_of_ash  color_intensity  nonflavanoid_phenols  \\\n",
      "0          127               15.6             5.64                  0.28   \n",
      "1          100               11.2             4.38                  0.26   \n",
      "2          101               18.6             5.68                  0.30   \n",
      "3          113               16.8             7.80                  0.24   \n",
      "4          118               21.0             4.32                  0.39   \n",
      "..         ...                ...              ...                   ...   \n",
      "173         95               20.5             7.70                  0.52   \n",
      "174        102               23.0             7.30                  0.43   \n",
      "175        120               20.0            10.20                  0.43   \n",
      "176        120               20.0             9.30                  0.53   \n",
      "177         96               24.5             9.20                  0.56   \n",
      "\n",
      "     proline   ash  proanthocyanins  od280/od315_of_diluted_wines  flavanoids  \\\n",
      "0       1065  2.43             2.29                          3.92        3.06   \n",
      "1       1050  2.14             1.28                          3.40        2.76   \n",
      "2       1185  2.67             2.81                          3.17        3.24   \n",
      "3       1480  2.50             2.18                          3.45        3.49   \n",
      "4        735  2.87             1.82                          2.93        2.69   \n",
      "..       ...   ...              ...                           ...         ...   \n",
      "173      740  2.45             1.06                          1.74        0.61   \n",
      "174      750  2.48             1.41                          1.56        0.75   \n",
      "175      835  2.26             1.35                          1.56        0.69   \n",
      "176      840  2.37             1.46                          1.62        0.68   \n",
      "177      560  2.74             1.35                          1.60        0.76   \n",
      "\n",
      "      hue  alcohol  target  total_phenols  malic_acid  \n",
      "0    1.04    14.23       0           2.80        1.71  \n",
      "1    1.05    13.20       0           2.65        1.78  \n",
      "2    1.03    13.16       0           2.80        2.36  \n",
      "3    0.86    14.37       0           3.85        1.95  \n",
      "4    1.04    13.24       0           2.80        2.59  \n",
      "..    ...      ...     ...            ...         ...  \n",
      "173  0.64    13.71       2           1.68        5.65  \n",
      "174  0.70    13.40       2           1.80        3.91  \n",
      "175  0.59    13.27       2           1.59        4.28  \n",
      "176  0.60    13.17       2           1.65        2.59  \n",
      "177  0.61    14.13       2           2.05        4.10  \n",
      "\n",
      "[178 rows x 14 columns]\n",
      "     target\n",
      "0         0\n",
      "1         0\n",
      "2         0\n",
      "3         0\n",
      "4         0\n",
      "..      ...\n",
      "173       2\n",
      "174       2\n",
      "175       2\n",
      "176       2\n",
      "177       2\n",
      "\n",
      "[178 rows x 1 columns]\n"
     ]
    }
   ],
   "source": [
    "print(predicts)\n",
    "print(df_pred)\n",
    "print(df_pred[predicts])"
   ]
  },
  {
   "cell_type": "code",
   "execution_count": null,
   "id": "161a5b98-beba-4838-8521-6508f0f56fa1",
   "metadata": {},
   "outputs": [],
   "source": []
  }
 ],
 "metadata": {
  "kernelspec": {
   "display_name": "Python 3 (ipykernel)",
   "language": "python",
   "name": "python3"
  },
  "language_info": {
   "codemirror_mode": {
    "name": "ipython",
    "version": 3
   },
   "file_extension": ".py",
   "mimetype": "text/x-python",
   "name": "python",
   "nbconvert_exporter": "python",
   "pygments_lexer": "ipython3",
   "version": "3.10.8"
  }
 },
 "nbformat": 4,
 "nbformat_minor": 5
}
