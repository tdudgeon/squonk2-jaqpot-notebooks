{
 "cells": [
  {
   "cell_type": "markdown",
   "id": "a681a0e6-e3b2-487f-8aba-045e21cc3694",
   "metadata": {},
   "source": [
    "# Prediction of wine type using random forest classifier"
   ]
  },
  {
   "cell_type": "markdown",
   "id": "2390f28c-2120-4075-82aa-73c6c11c0af1",
   "metadata": {},
   "source": [
    "Before you run this notebook you must first install the dependencies using the dependencies.ipynb notebook.\n",
    "\n",
    "Only needs to be done once, but if you start a new Jupyter instance then you will have to load them again."
   ]
  },
  {
   "cell_type": "code",
   "execution_count": null,
   "id": "e66d94b9-c84d-493b-8d51-7266e8fa02bc",
   "metadata": {},
   "outputs": [],
   "source": [
    "from sklearn.datasets import load_wine\n",
    "import pandas as pd\n",
    "from sklearn.ensemble import RandomForestClassifier\n",
    "from jaqpotpy import Jaqpot\n",
    "from jaqpotpy.models import MolecularModel"
   ]
  },
  {
   "cell_type": "code",
   "execution_count": 3,
   "id": "6522d481-5c20-4ea9-8534-1fd923e3e7da",
   "metadata": {},
   "outputs": [],
   "source": [
    "# see here for info on the wine dataset https://scikit-learn.org/stable/datasets/toy_dataset.html\n",
    "# and https://archive.ics.uci.edu/ml/datasets/Wine\n",
    "data = load_wine()"
   ]
  },
  {
   "cell_type": "code",
   "execution_count": 4,
   "id": "ed89e127-38e9-49cf-bda4-8c8b99c90c8c",
   "metadata": {},
   "outputs": [
    {
     "name": "stdout",
     "output_type": "stream",
     "text": [
      "     alcohol  malic_acid   ash  alcalinity_of_ash  magnesium  total_phenols  \\\n",
      "0      14.23        1.71  2.43               15.6      127.0           2.80   \n",
      "1      13.20        1.78  2.14               11.2      100.0           2.65   \n",
      "2      13.16        2.36  2.67               18.6      101.0           2.80   \n",
      "3      14.37        1.95  2.50               16.8      113.0           3.85   \n",
      "4      13.24        2.59  2.87               21.0      118.0           2.80   \n",
      "..       ...         ...   ...                ...        ...            ...   \n",
      "173    13.71        5.65  2.45               20.5       95.0           1.68   \n",
      "174    13.40        3.91  2.48               23.0      102.0           1.80   \n",
      "175    13.27        4.28  2.26               20.0      120.0           1.59   \n",
      "176    13.17        2.59  2.37               20.0      120.0           1.65   \n",
      "177    14.13        4.10  2.74               24.5       96.0           2.05   \n",
      "\n",
      "     flavanoids  nonflavanoid_phenols  proanthocyanins  color_intensity   hue  \\\n",
      "0          3.06                  0.28             2.29             5.64  1.04   \n",
      "1          2.76                  0.26             1.28             4.38  1.05   \n",
      "2          3.24                  0.30             2.81             5.68  1.03   \n",
      "3          3.49                  0.24             2.18             7.80  0.86   \n",
      "4          2.69                  0.39             1.82             4.32  1.04   \n",
      "..          ...                   ...              ...              ...   ...   \n",
      "173        0.61                  0.52             1.06             7.70  0.64   \n",
      "174        0.75                  0.43             1.41             7.30  0.70   \n",
      "175        0.69                  0.43             1.35            10.20  0.59   \n",
      "176        0.68                  0.53             1.46             9.30  0.60   \n",
      "177        0.76                  0.56             1.35             9.20  0.61   \n",
      "\n",
      "     od280/od315_of_diluted_wines  proline  \n",
      "0                            3.92   1065.0  \n",
      "1                            3.40   1050.0  \n",
      "2                            3.17   1185.0  \n",
      "3                            3.45   1480.0  \n",
      "4                            2.93    735.0  \n",
      "..                            ...      ...  \n",
      "173                          1.74    740.0  \n",
      "174                          1.56    750.0  \n",
      "175                          1.56    835.0  \n",
      "176                          1.62    840.0  \n",
      "177                          1.60    560.0  \n",
      "\n",
      "[178 rows x 13 columns]\n"
     ]
    }
   ],
   "source": [
    "# create the data frame\n",
    "df_X = pd.DataFrame(data['data'], columns=data['feature_names'])\n",
    "print(df_X)"
   ]
  },
  {
   "cell_type": "code",
   "execution_count": 5,
   "id": "18b5b700-14cd-4672-baa2-b3d4e7605ef6",
   "metadata": {},
   "outputs": [
    {
     "name": "stdout",
     "output_type": "stream",
     "text": [
      "     target\n",
      "0         0\n",
      "1         0\n",
      "2         0\n",
      "3         0\n",
      "4         0\n",
      "..      ...\n",
      "173       2\n",
      "174       2\n",
      "175       2\n",
      "176       2\n",
      "177       2\n",
      "\n",
      "[178 rows x 1 columns]\n"
     ]
    }
   ],
   "source": [
    "df_Y = pd.DataFrame(data['target'], columns = [\"target\"])\n",
    "print(df_Y)"
   ]
  },
  {
   "cell_type": "code",
   "execution_count": 6,
   "id": "278cdb0f-c661-4c1e-be08-804ebffe0745",
   "metadata": {},
   "outputs": [
    {
     "name": "stderr",
     "output_type": "stream",
     "text": [
      "/tmp/ipykernel_56/2044976.py:3: DataConversionWarning: A column-vector y was passed when a 1d array was expected. Please change the shape of y to (n_samples,), for example using ravel().\n",
      "  model.fit(df_X, df_Y)\n"
     ]
    },
    {
     "data": {
      "text/plain": [
       "RandomForestClassifier(max_depth=10, random_state=0)"
      ]
     },
     "execution_count": 6,
     "metadata": {},
     "output_type": "execute_result"
    }
   ],
   "source": [
    "# create the model\n",
    "model = RandomForestClassifier(max_depth=10, random_state=0)\n",
    "model.fit(df_X, df_Y)\n",
    "# this gives a strange warning about \"column-vector y was passed when a 1d array was expected\" which can be ignored, but need to work out how to avoid this. "
   ]
  },
  {
   "cell_type": "code",
   "execution_count": null,
   "id": "ab875bc3-9505-4eb4-93c4-4bd3ff193b2e",
   "metadata": {},
   "outputs": [],
   "source": [
    "# Create the Jaqpot instance and prompt for the API key\n",
    "a = input()\n",
    "jaqpot = Jaqpot()\n",
    "jaqpot.set_api_key(a)\n",
    "# TODO - Jaqpot prints the key which is a security risk. Avoid doing this."
   ]
  },
  {
   "cell_type": "code",
   "execution_count": 9,
   "id": "3e392187-6e0f-4621-99d2-b8b632d69757",
   "metadata": {},
   "outputs": [
    {
     "name": "stderr",
     "output_type": "stream",
     "text": [
      "  2022-08-22 09:38:33,794 - INFO - Model with id: gG1ySbhBauoTuTa0eSIf created. Please visit the application to proceed\n"
     ]
    }
   ],
   "source": [
    "# Deploy the model to Jaqpot along with its title and description\n",
    "model_id = jaqpot.deploy_sklearn(model, df_X, df_Y, \"RF wine model from Squonk\", \"Random Forest wine category predictive model from Squonk\")"
   ]
  },
  {
   "cell_type": "code",
   "execution_count": 10,
   "id": "66bee326-1673-4176-b7f3-a516d45c71bd",
   "metadata": {},
   "outputs": [
    {
     "name": "stderr",
     "output_type": "stream",
     "text": [
      "  2022-08-22 09:38:49,149 - INFO - completed 10.0\n",
      "  2022-08-22 09:38:50,311 - INFO - completed 10.0\n",
      "  2022-08-22 09:38:51,480 - INFO - completed 100.0\n"
     ]
    }
   ],
   "source": [
    "# Run the predictions using the uploaded model. The Jaqpot client handles this for us.\n",
    "df_pred, predicts = jaqpot.predict(df_X, model_id)"
   ]
  },
  {
   "cell_type": "code",
   "execution_count": 11,
   "id": "ef6a2b83-2763-44e2-a367-4ccfbd998947",
   "metadata": {},
   "outputs": [
    {
     "name": "stdout",
     "output_type": "stream",
     "text": [
      "['target']\n",
      "     alcalinity_of_ash  nonflavanoid_phenols  proline  color_intensity  \\\n",
      "0                 15.6                  0.28     1065             5.64   \n",
      "1                 11.2                  0.26     1050             4.38   \n",
      "2                 18.6                  0.30     1185             5.68   \n",
      "3                 16.8                  0.24     1480             7.80   \n",
      "4                 21.0                  0.39      735             4.32   \n",
      "..                 ...                   ...      ...              ...   \n",
      "173               20.5                  0.52      740             7.70   \n",
      "174               23.0                  0.43      750             7.30   \n",
      "175               20.0                  0.43      835            10.20   \n",
      "176               20.0                  0.53      840             9.30   \n",
      "177               24.5                  0.56      560             9.20   \n",
      "\n",
      "     od280/od315_of_diluted_wines  flavanoids   ash   hue  malic_acid  \\\n",
      "0                            3.92        3.06  2.43  1.04        1.71   \n",
      "1                            3.40        2.76  2.14  1.05        1.78   \n",
      "2                            3.17        3.24  2.67  1.03        2.36   \n",
      "3                            3.45        3.49  2.50  0.86        1.95   \n",
      "4                            2.93        2.69  2.87  1.04        2.59   \n",
      "..                            ...         ...   ...   ...         ...   \n",
      "173                          1.74        0.61  2.45  0.64        5.65   \n",
      "174                          1.56        0.75  2.48  0.70        3.91   \n",
      "175                          1.56        0.69  2.26  0.59        4.28   \n",
      "176                          1.62        0.68  2.37  0.60        2.59   \n",
      "177                          1.60        0.76  2.74  0.61        4.10   \n",
      "\n",
      "     magnesium  proanthocyanins  alcohol  total_phenols  target  \n",
      "0          127             2.29    14.23           2.80       0  \n",
      "1          100             1.28    13.20           2.65       0  \n",
      "2          101             2.81    13.16           2.80       0  \n",
      "3          113             2.18    14.37           3.85       0  \n",
      "4          118             1.82    13.24           2.80       0  \n",
      "..         ...              ...      ...            ...     ...  \n",
      "173         95             1.06    13.71           1.68       2  \n",
      "174        102             1.41    13.40           1.80       2  \n",
      "175        120             1.35    13.27           1.59       2  \n",
      "176        120             1.46    13.17           1.65       2  \n",
      "177         96             1.35    14.13           2.05       2  \n",
      "\n",
      "[178 rows x 14 columns]\n",
      "     target\n",
      "0         0\n",
      "1         0\n",
      "2         0\n",
      "3         0\n",
      "4         0\n",
      "..      ...\n",
      "173       2\n",
      "174       2\n",
      "175       2\n",
      "176       2\n",
      "177       2\n",
      "\n",
      "[178 rows x 1 columns]\n"
     ]
    }
   ],
   "source": [
    "print(predicts)\n",
    "print(df_pred)\n",
    "print(df_pred[predicts])"
   ]
  },
  {
   "cell_type": "code",
   "execution_count": null,
   "id": "161a5b98-beba-4838-8521-6508f0f56fa1",
   "metadata": {},
   "outputs": [],
   "source": []
  }
 ],
 "metadata": {
  "kernelspec": {
   "display_name": "Python 3 (ipykernel)",
   "language": "python",
   "name": "python3"
  },
  "language_info": {
   "codemirror_mode": {
    "name": "ipython",
    "version": 3
   },
   "file_extension": ".py",
   "mimetype": "text/x-python",
   "name": "python",
   "nbconvert_exporter": "python",
   "pygments_lexer": "ipython3",
   "version": "3.10.6"
  }
 },
 "nbformat": 4,
 "nbformat_minor": 5
}
